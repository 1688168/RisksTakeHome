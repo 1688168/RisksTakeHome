{
 "cells": [
  {
   "cell_type": "code",
   "execution_count": 1,
   "metadata": {},
   "outputs": [],
   "source": [
    "import pandas as pd\n",
    "import numpy as np\n",
    "import yfinance as yf\n",
    "import datetime as dt\n",
    "# Make exponentiated values appear as 2 decimal places.\n",
    "pd.options.display.float_format = '{:.2f}'.format\n",
    " \n",
    "### Settings to allow the lists of results to not be truncated.\n",
    "pd.set_option('display.max_rows', None)\n",
    "pd.set_option('display.max_colwidth', 140)\n",
    "pd.set_option('display.max_columns', None)\n",
    "#%matplotlib inline"
   ]
  },
  {
   "cell_type": "code",
   "execution_count": 1,
   "metadata": {},
   "outputs": [
    {
     "name": "stdout",
     "output_type": "stream",
     "text": [
      "token:  FC3BADD4-AA3F-4771-903F-D4193813CC34\n"
     ]
    }
   ],
   "source": [
    "import requests\n",
    "import json\n",
    "\n",
    "# use your own account number, password and appid to authenticate \n",
    "account = \"701628\"\n",
    "password = \"CA0DA440\"\n",
    "appid = \"3a13b3e4-71b9-4c10-b2c7-9f8e5bb1d01e\"\n",
    "\n",
    "# Build auth url\n",
    "authurl = \"https://ftl.fasttrack.net/v1/auth/login?account=\" + account + \"&pass=\" + password + \"&appid=\" + appid \n",
    "\n",
    "# make authentication request\n",
    "authresponse = requests.request(\"GET\", authurl)\n",
    "\n",
    "# parse result and extract token\n",
    "a = json.loads(authresponse.text)\n",
    "\n",
    "token = a['token']\n",
    "print(\"token: \", token)"
   ]
  },
  {
   "cell_type": "code",
   "execution_count": null,
   "metadata": {},
   "outputs": [],
   "source": [
    "# build url to access expense ratio details\n",
    "url = \"https://ftl.fasttrack.net/v1/ref/xmulti/details\"\n",
    "\n",
    "# request date for all \"free\" tickers in the FT Data API Trial\n",
    "payload = \"[]\"\n",
    "\n",
    "## construct a header object containing your credentials. \n",
    "# You will send this with the POST  request to authenticate\n",
    "headers = {\n",
    "    'appid': appid,\n",
    "    'token': token,\n",
    "    'Content-Type': \"application/json\"\n",
    "    }\n",
    "\n",
    "# request date\n",
    "response = requests.request(\"POST\", url, data=payload, headers=headers)\n",
    "\n",
    "# parse data\n",
    "y = json.loads(response.text)\n",
    "\n",
    "# print data in CSV format\n",
    "print(\"Ticker, Expense, Objective, Security Type\")\n",
    "for detail in y['datalist']:\n",
    "    print(\n",
    "        detail['ticker'],\n",
    "        \",\",\n",
    "        '{:.2f}%'.format(float(detail[\"expenseratio\"])*100),\n",
    "        \",\",\n",
    "        detail[\"objective\"],\n",
    "        \",\",\n",
    "        detail[\"security_type\"]\n",
    "    )"
   ]
  }
 ],
 "metadata": {
  "kernelspec": {
   "display_name": "Python 3",
   "language": "python",
   "name": "python3"
  },
  "language_info": {
   "codemirror_mode": {
    "name": "ipython",
    "version": 3
   },
   "file_extension": ".py",
   "mimetype": "text/x-python",
   "name": "python",
   "nbconvert_exporter": "python",
   "pygments_lexer": "ipython3",
   "version": "3.11.0"
  }
 },
 "nbformat": 4,
 "nbformat_minor": 2
}
